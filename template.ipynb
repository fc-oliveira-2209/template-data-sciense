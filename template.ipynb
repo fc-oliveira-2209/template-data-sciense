{
  "nbformat": 4,
  "nbformat_minor": 0,
  "metadata": {
    "colab": {
      "provenance": [],
      "collapsed_sections": [
        "telq9LdvgxpY",
        "GJukmoE3g7dH",
        "zMw2fsQuiNgD",
        "e5nos08tu002",
        "EaQE7kgk6RxP",
        "SatWZFJM6k-q",
        "uUpVExA4P5uY",
        "G0Zszv_HSKe5",
        "XwxPSD9Q64M2"
      ]
    },
    "kernelspec": {
      "name": "python3",
      "display_name": "Python 3"
    },
    "language_info": {
      "name": "python"
    }
  },
  "cells": [
    {
      "cell_type": "markdown",
      "source": [
        "##**Templates**##"
      ],
      "metadata": {
        "id": "telq9LdvgxpY"
      }
    },
    {
      "cell_type": "markdown",
      "source": [
        "##Bibliotecas para análise de dados##"
      ],
      "metadata": {
        "id": "GJukmoE3g7dH"
      }
    },
    {
      "cell_type": "code",
      "metadata": {
        "id": "iqzVS22V9D3m"
      },
      "source": [
        "import pandas as pd\n",
        "import numpy as np\n",
        "import matplotlib.pyplot as plt"
      ],
      "execution_count": null,
      "outputs": []
    },
    {
      "cell_type": "markdown",
      "source": [
        "##Leitura/encoding/drop/##"
      ],
      "metadata": {
        "id": "zMw2fsQuiNgD"
      }
    },
    {
      "cell_type": "code",
      "metadata": {
        "id": "60BBVoSh9D78"
      },
      "source": [
        "#leitura da base\n",
        "df = pd.read_excel(\"base_zoc.xlsx\")\n",
        "\n",
        "#excluindo colunas e linhas totalmente vazias\n",
        "df = df.dropna(how=\"all\", axis=1)\n",
        "df = df.dropna(how=\"all\", axis=0)\n",
        "\n",
        "#excluindo linhas totalmente vazias\n",
        "\n",
        "#excluindo coluna ou linha\n",
        "df = df.drop('nome da linha', axis=0)\n",
        "df = df.drop('nome da linha', axis=1)\n",
        "\n",
        "#preencher valor vazio\n",
        "df['nome da coluna'] = df['nome da coluna'].fillna(0)\n",
        "\n",
        "#preencher linha com o último valor\n",
        "df = df.ffill()\n",
        "\n",
        "#adicionar colunas novas\n",
        "df['nome da coluna nova'] = 0\n",
        "#outra forma de adicionar coluna\n",
        "df.loc[linha, 'nome da coluna'] = 0\n",
        "\n",
        "#head, sample e tail (cabeça, meio e rabo da tabela)\n",
        "df.head()\n",
        "df.sample()\n",
        "df.tail()\n",
        "\n",
        "#display e print (mostrando a tabela, após a leitura)\n",
        "display(df)\n",
        "print(df)\n",
        "\n",
        "#sum, mean, min, max (soma, média, mínimo e máximo)\n",
        "df['nome da coluna'].sum()\n",
        "df['nome da coluna'].mean()\n",
        "df['nome da coluna'].min()\n",
        "df['nome da coluna'].max()\n",
        "\n",
        "#contanto valores de uma coluna\n",
        "df['nome da coluna'].value_counts()\n",
        "\n",
        "#construção de um Data Frame vazio ou não\n",
        "df = pd.DataFrame()\n",
        "\n",
        "#construção de um Data Frame (outro modo)\n",
        "df = {'nome da coluna': ['valor da coluna', 'valor da coluna'],\n",
        "      'nome da coluna': [350, 350],\n",
        "      'nome da coluna': ['valor da coluna', 'valor da coluna']\n",
        "      'nome da coluna': [9, 9],\n",
        "      }\n",
        "\n",
        "#renomeando colunas existentes\n",
        "df.columns = ['novo nome', 'novo nome 2', 'novo nome']\n",
        "\n",
        "#tamanho do df\n",
        "len(df)\n",
        "\n",
        "#tipos do df\n",
        "df.types()\n",
        "df.info()\n",
        "\n",
        "#exportando para excel\n",
        "df.to_excel('nome do arquivo.xlsx')\n",
        "\n",
        "#filtro com == significa que quer filtrar pelo valor desejado no parentêses\n",
        "nova_variavel = nova_variavel[nova_variavel['nome da coluna'] == ('filtro')]\n",
        "#filtro com != significa que quer filtrar tudo menos o valor do parêntese\n",
        "nova_variavel = nova_variavel[nova_variavel['nome da coluna'] != ('filtro')]\n",
        "\n",
        "#dividir colunas de um DataFrame (ex: MANAUS/AM -> MANAUS, AM\n",
        "# MANAUS em uma coluna e AM e outra coluna\n",
        "df[['cidade', 'estado']] = df['nome da coluna'].str.splt('/', expand=True)\n",
        "\n",
        "#dividir colunas de um DataFrame (ex: MANAUS/AM -> MANAUS, AM, BR\n",
        "# MANAUS e AM em uma coluna e BR em outra\n",
        "df['nome da coluna'].str.split('/', expand=True, n=1) -> começa da esquerda pra direita\n",
        "df['nome da coluna'].str.rsplit('/', expand=True, n=1) -> começa da direita para esquerda\n",
        "\n",
        "#"
      ],
      "execution_count": null,
      "outputs": []
    },
    {
      "cell_type": "markdown",
      "source": [
        "##Merge, Groupby, Append##\n",
        "*Merge -> mescla colunas de um df com outro, caso colunas tenham o mesmo nome,\n",
        "o df une de forma inteligente as colunas*\n",
        "\n",
        "*Groupby* -> agrupa linhas e colunas somando, tirando média, mínimo ou máximo\n",
        "\n",
        "*Append* -> insere um df abaixo do outro"
      ],
      "metadata": {
        "id": "e5nos08tu002"
      }
    },
    {
      "cell_type": "code",
      "metadata": {
        "id": "UYdVP8HyWKvj"
      },
      "source": [
        "#agrupamento de valores por coluna\n",
        "\n",
        "df[['nome da coluna', 'nome da coluna']].groupby(['nome da coluna']).sum()\n",
        "\n",
        "#adicionando um df abaixo de outro df\n",
        "df = df.append(df_novo)\n",
        "\n",
        "#método Merge -> se colunas novas do novo df forem de mesmo novo do df antigo\n",
        "# -> \n",
        "\n",
        "df = df.merge(dataframe_novo)\n",
        "display(df)"
      ],
      "execution_count": null,
      "outputs": []
    },
    {
      "cell_type": "markdown",
      "source": [
        "##Args e Kwargs##"
      ],
      "metadata": {
        "id": "EaQE7kgk6RxP"
      }
    },
    {
      "cell_type": "code",
      "source": [],
      "metadata": {
        "id": "d-RLUeAP6bB4"
      },
      "execution_count": null,
      "outputs": []
    },
    {
      "cell_type": "code",
      "source": [],
      "metadata": {
        "id": "u3gC8ZOV6bEw"
      },
      "execution_count": null,
      "outputs": []
    },
    {
      "cell_type": "code",
      "source": [],
      "metadata": {
        "id": "xW4VGzYD6bHJ"
      },
      "execution_count": null,
      "outputs": []
    },
    {
      "cell_type": "markdown",
      "source": [
        "##Plotagem Gráficos Seaborn##"
      ],
      "metadata": {
        "id": "SatWZFJM6k-q"
      }
    },
    {
      "cell_type": "code",
      "source": [
        "import seaborn as sns\n",
        "from jupyterthemes import jplot\n",
        "jplot.style()\n",
        "df = sns.load_dataset()"
      ],
      "metadata": {
        "id": "jYr8F_c86pZn"
      },
      "execution_count": null,
      "outputs": []
    },
    {
      "cell_type": "code",
      "source": [
        "sns.pairplot(df, hue='nome da coluna', hue_order=['nome da coluna 1', 'nome da coluna 2']) #ordem de visualização das colunas\n",
        "sns.pairplot(df, hue='nome da coluna', palette=['r', 'w']) #iniciais representam cor vermelha (red) e branca (white)\n",
        "sns.pairplot(df, hue='nome da coluna', vars=['nome da coluna']) #delimita o número de colunas no gráfico\n",
        "sns.pairplot(df, hue='nome da coluna', kid='reg') #coloca no gráfico uma barra para melhor visualização\n",
        "sns.pairplot(df, hue='nome da coluna', height='5') #determina o tamanho visual do gráfico\n",
        "#matplotlip collors ver no site"
      ],
      "metadata": {
        "id": "lQw1v_bW6pcP"
      },
      "execution_count": null,
      "outputs": []
    },
    {
      "cell_type": "markdown",
      "source": [
        "##Matplotlib##"
      ],
      "metadata": {
        "id": "uUpVExA4P5uY"
      }
    },
    {
      "cell_type": "code",
      "source": [
        "import matplotlib.pyplot as plt"
      ],
      "metadata": {
        "id": "FSJ1tEyc6pem"
      },
      "execution_count": null,
      "outputs": []
    },
    {
      "cell_type": "code",
      "source": [
        "df.plot(kind='bar', stacked=True)\n",
        "plt.xticks(rotation=0)"
      ],
      "metadata": {
        "id": "z9308pIv7GkW"
      },
      "execution_count": null,
      "outputs": []
    },
    {
      "cell_type": "markdown",
      "source": [
        "##Gráfico com Pandas##"
      ],
      "metadata": {
        "id": "G0Zszv_HSKe5"
      }
    },
    {
      "cell_type": "code",
      "source": [
        "# gráfico de barras horizontal\n",
        "df.plot(x='nome da coluna', y='nome da coluna', kind='bar', figsize=(20, 20), sharex=True ou sharey=True)\n",
        "# gráfico de barras vertical\n",
        "df.plot(kind='bar', stacked=True, rot=0)\n",
        "# gráfico com todas as colunas\n",
        "df.plot(kind='bar', subplots=True)\n"
      ],
      "metadata": {
        "id": "QbKJkb2_STaw"
      },
      "execution_count": null,
      "outputs": []
    },
    {
      "cell_type": "code",
      "source": [],
      "metadata": {
        "id": "0XR0pHUcSTjt"
      },
      "execution_count": null,
      "outputs": []
    },
    {
      "cell_type": "code",
      "source": [],
      "metadata": {
        "id": "lcIZ3JzQSTmm"
      },
      "execution_count": null,
      "outputs": []
    },
    {
      "cell_type": "markdown",
      "source": [
        "##Funções##"
      ],
      "metadata": {
        "id": "XwxPSD9Q64M2"
      }
    },
    {
      "cell_type": "code",
      "source": [
        "#modelo de função\n",
        "def palavra(palavra: str='oi, tudo bem?') -> str:\n",
        "  return f'a palavra escolhida é: {palavra}'"
      ],
      "metadata": {
        "id": "hWCeu8yF7HEY"
      },
      "execution_count": null,
      "outputs": []
    },
    {
      "cell_type": "code",
      "source": [
        "# com if e else\n",
        "def onde(x: int=0) -> str:\n",
        "  if x > 10;\n",
        "    return 'maior que 10'\n",
        "  elif  x == 10;\n",
        "    return 'igual a 10'\n",
        "  else:\n",
        "    return 'menor que 10'"
      ],
      "metadata": {
        "id": "A1G3tX1d7HHP"
      },
      "execution_count": null,
      "outputs": []
    },
    {
      "cell_type": "code",
      "source": [],
      "metadata": {
        "id": "RoMxvr-47Hhz"
      },
      "execution_count": null,
      "outputs": []
    },
    {
      "cell_type": "markdown",
      "source": [
        "\n",
        "\n",
        "```\n",
        "# Isto está formatado como código\n",
        "```\n",
        "\n",
        "##Encoding UTF-8 (Para quando der erro durante leitura do DataFrame)##"
      ],
      "metadata": {
        "id": "kUnus-tLGNhS"
      }
    },
    {
      "cell_type": "code",
      "source": [
        "encoding='ISO-8859-1', sep=';'\n",
        "\n",
        "#pesquisar python codec types"
      ],
      "metadata": {
        "id": "rx3o6HAYGS0C"
      },
      "execution_count": null,
      "outputs": []
    },
    {
      "cell_type": "markdown",
      "source": [
        "##Index##"
      ],
      "metadata": {
        "id": "rkt5rsyiSBOM"
      }
    },
    {
      "cell_type": "code",
      "source": [
        "# coluna como index\n",
        "df.set_index('nome da coluna')\n",
        "# resetando index\n",
        "df.reset_index('nome da coluna')\n",
        "# resetando com colunas duplas\n",
        "df.resete_index('nome da coluna', col_level=0, col_fill='preenche o nome da coluna')\n",
        "# parâmetros\n",
        "as_index=True or False "
      ],
      "metadata": {
        "id": "NSdEi8yASCIN"
      },
      "execution_count": null,
      "outputs": []
    },
    {
      "cell_type": "markdown",
      "source": [
        "##Columns and Rows##\n"
      ],
      "metadata": {
        "id": "he1zGDdGWGKI"
      }
    },
    {
      "cell_type": "code",
      "source": [
        "# criando coluna e somando linhas\n",
        "df['total'] = df.sum(axis=1)\n",
        "# criando index com nome valor total e somando colunas\n",
        "df.loc['total'] = df.sum(axis=0)\n",
        "# criando coluna e dando valor a ela\n",
        "df['nome da coluna'] = 0\n",
        "# inserindo coluna por posição: ) 0-> posição da esquerda para direita -> comando altera o DataFrame\n",
        "df.insert(0, 'nome da coluna', valor da coluna)\n",
        "# coluna com valores -> comando não altera o DataFrame\n",
        "df.assign(nome da coluna=[valor da coluna entre vírgulas])\n",
        "\n",
        "# cáculos entre colunas\n",
        "df['total'] = df['nome da coluna'] + * ** / df['nome da outra coluna'] #somando, multiplicando e dividindo duas colunas númericas\n",
        "# somando valor interior com string\n",
        "df['total'] = df['nome da coluna'].astype('str') + ' ' + df['nome da coluna'] #aspas no meio é para dar espaço\n",
        "# \n"
      ],
      "metadata": {
        "id": "F3R019MQWHMt"
      },
      "execution_count": null,
      "outputs": []
    },
    {
      "cell_type": "markdown",
      "source": [
        "##Groupby##"
      ],
      "metadata": {
        "id": "f6Kt27ZxfEdW"
      }
    },
    {
      "cell_type": "code",
      "source": [
        "# agrupamento dando valores às colunas\n",
        "df.groupby(['nova coluna', 'nova coluna 2', 'nova coluna 3'], axis=1).sum()\n",
        "# agrupamento simples\n",
        "df.groupby('nome da coluna').sum()\n",
        "# agrupamento simples\n",
        "df.groupby('nome da coluna').max()\n",
        "# agrupamento simples\n",
        "df.groupby('nome da coluna').min()\n",
        "# agrupamento simples\n",
        "df.groupby('nome da coluna').mean()\n",
        "# agrupamento por mais de uma coluna\n",
        "df.groupby(['nova coluna', 'nova coluna 2', 'nova coluna 3'], as_index=False).sum() ou .sum().reset_index\n",
        "# agrupamento de colunas por duas funções, um fez a soma e outra fez a média\n",
        "df.groupby('nome da coluna').agg({'nome da coluna':'sum', 'nome da coluna':'mean'})\n",
        "#\n",
        "df.groupby('nome da coluna').agg({'nome da coluna':'sum', 'nome da coluna':'mean'})\n"
      ],
      "metadata": {
        "id": "2nZ78PlGWHPW"
      },
      "execution_count": null,
      "outputs": []
    },
    {
      "cell_type": "markdown",
      "source": [
        "##Percentual %##"
      ],
      "metadata": {
        "id": "LDyyhVITBnHs"
      }
    },
    {
      "cell_type": "code",
      "source": [
        "#resultado em percentual # 1% significa que quero 1 casa decimal\n",
        "display(tabela[\"nome da coluna\"].value_counts(normalize=True).map(\"{:.1%}\".format))\n"
      ],
      "metadata": {
        "id": "7vaz-3QvSCKz"
      },
      "execution_count": null,
      "outputs": []
    },
    {
      "cell_type": "markdown",
      "source": [
        "## Estrutura do FOR para plotagem de gráficos ##"
      ],
      "metadata": {
        "id": "MOHIB0c-DQzy"
      }
    },
    {
      "cell_type": "code",
      "source": [
        "# Análise Exploratória e mais Completa\n",
        "\n",
        "# Vamos importar o plotly.express (biblioteca que permite usar gráficos no phyton)\n",
        "\n",
        "import plotly.express as px\n",
        "\n",
        "# Qualquer gráfico deve-se fazer em duas etapas: criar o gráfico e depois exibir o gráfico\n",
        "\n",
        "# Vamos comparar cada coluna da tabela com a coluna de cancelamento, pra tentar identificar quais colunas estão impactando no cancelamento de contratos da empresa \n",
        "\n",
        "# Criando o gráfico\n",
        "\n",
        "# Foi criado uma variável chamada (coluna) \n",
        "\n",
        "coluna = \"TotalGasto\"\n",
        "\n",
        "# Foi feito o (for) que é uma estrutura usada pra rodar um código várias vezes\n",
        "\n",
        "# código abaixo significa (para cada coluna dentro das colunas da minha tabela)\n",
        "\n",
        "for coluna in tabela.columns:\n",
        "\n",
        "    grafico = px.histogram(tabela, x=coluna, color=\"Churn\")\n",
        "\n",
        "    # Exibindo o gráfico\n",
        "\n",
        "    grafico.show()\n",
        "\n",
        "    \n",
        "# Pra mudar as cores coloca-se (color_discrete_sequence=[\"nome da cor em ingles\", \"nome da cor em ingles\"])\n",
        "\n",
        "# Para edições nos gráficos: https://plotly.com/python/histograms/"
      ],
      "metadata": {
        "id": "BG7rdS1pDlvg"
      },
      "execution_count": null,
      "outputs": []
    }
  ]
}